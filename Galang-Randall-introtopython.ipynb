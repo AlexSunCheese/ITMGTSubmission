{
 "cells": [
  {
   "cell_type": "markdown",
   "metadata": {},
   "source": [
    "Student ID 182076\n",
    "Surname Galang\n",
    "Year and Course BS Communications Technology Management"
   ]
  },
  {
   "cell_type": "code",
   "execution_count": 1,
   "metadata": {},
   "outputs": [
    {
     "name": "stdout",
     "output_type": "stream",
     "text": [
      "Enter your first number: 32\n",
      "Enter your second number: 43\n",
      "Enter your third number: 54\n",
      "43.0\n"
     ]
    }
   ],
   "source": [
    "val = int(input(\"Enter your first number: \"))\n",
    "val2 = int(input(\"Enter your second number: \"))\n",
    "val3 = int(input(\"Enter your third number: \"))\n",
    "valall = val + val2 + val3\n",
    "if valall > 0:\n",
    "    print((valall)/3)\n",
    "else:\n",
    "    print(\"This set is invalid\") "
   ]
  },
  {
   "cell_type": "code",
   "execution_count": null,
   "metadata": {},
   "outputs": [],
   "source": []
  }
 ],
 "metadata": {
  "kernelspec": {
   "display_name": "Python 3",
   "language": "python",
   "name": "python3"
  },
  "language_info": {
   "codemirror_mode": {
    "name": "ipython",
    "version": 3
   },
   "file_extension": ".py",
   "mimetype": "text/x-python",
   "name": "python",
   "nbconvert_exporter": "python",
   "pygments_lexer": "ipython3",
   "version": "3.8.5"
  }
 },
 "nbformat": 4,
 "nbformat_minor": 4
}
