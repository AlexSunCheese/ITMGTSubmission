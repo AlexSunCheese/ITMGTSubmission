{
 "cells": [
  {
   "cell_type": "markdown",
   "metadata": {},
   "source": [
    "Student ID: 182076\n",
    "Surname: Galang\n",
    "Year and Course: 3 BS Communications Technology Management"
   ]
  },
  {
   "cell_type": "code",
   "execution_count": 3,
   "metadata": {},
   "outputs": [
    {
     "name": "stdout",
     "output_type": "stream",
     "text": [
      "US Dollars: 5\n"
     ]
    },
    {
     "data": {
      "text/plain": [
       "'5 US dollar(s) = 250 Philippine Pesos.'"
      ]
     },
     "execution_count": 3,
     "metadata": {},
     "output_type": "execute_result"
    }
   ],
   "source": [
    "def dollarPesoConverter(dollars):\n",
    "    pesos = (dollars * 50)\n",
    "    return str(dollars) + \" US dollar(s) = \" + str(pesos) + \" Philippine Pesos.\"      \n",
    "            \n",
    "dollarPesoConverter(int(input(\"US Dollars: \")))"
   ]
  },
  {
   "cell_type": "code",
   "execution_count": 4,
   "metadata": {},
   "outputs": [
    {
     "name": "stdout",
     "output_type": "stream",
     "text": [
      "Enter first integer: 3\n",
      "Enter second integer: 4\n",
      "7\n",
      "-1\n",
      "12\n",
      "0\n",
      "3\n"
     ]
    }
   ],
   "source": [
    "int1 = int(input(\"Enter first integer: \"))\n",
    "int2 = int(input(\"Enter second integer: \"))\n",
    "print (int1 + int2)\n",
    "print (int1 - int2)\n",
    "print (int1 * int2)\n",
    "print (int1 // int2)\n",
    "print (int1 % int2)"
   ]
  },
  {
   "cell_type": "code",
   "execution_count": 5,
   "metadata": {},
   "outputs": [
    {
     "name": "stdout",
     "output_type": "stream",
     "text": [
      "Enter kg 45\n",
      "Enter cm 3\n"
     ]
    },
    {
     "data": {
      "text/plain": [
       "'BMI: 50000.0'"
      ]
     },
     "execution_count": 5,
     "metadata": {},
     "output_type": "execute_result"
    }
   ],
   "source": [
    "def compute_bmi (kg, m):\n",
    "    return (\"BMI: \" + str(kg/(m * m)))\n",
    "def convert_cm_to_m (cm):\n",
    "    return cm/100\n",
    "kg = float(input(\"Enter kg \"))\n",
    "cm = float(input(\"Enter cm \"))\n",
    "compute_bmi(kg, convert_cm_to_m(cm))"
   ]
  },
  {
   "cell_type": "code",
   "execution_count": null,
   "metadata": {},
   "outputs": [],
   "source": []
  }
 ],
 "metadata": {
  "kernelspec": {
   "display_name": "Python 3",
   "language": "python",
   "name": "python3"
  },
  "language_info": {
   "codemirror_mode": {
    "name": "ipython",
    "version": 3
   },
   "file_extension": ".py",
   "mimetype": "text/x-python",
   "name": "python",
   "nbconvert_exporter": "python",
   "pygments_lexer": "ipython3",
   "version": "3.8.5"
  }
 },
 "nbformat": 4,
 "nbformat_minor": 4
}
