{
 "cells": [
  {
   "cell_type": "markdown",
   "metadata": {},
   "source": [
    "## Playing With Functions"
   ]
  },
  {
   "cell_type": "markdown",
   "metadata": {},
   "source": [
    "These exercises are designed to strengthen your grasp on basic programming concepts. Read what is required of you carefully. For example, instructions to **return** values are not the same as those of **printing**.\n",
    "\n",
    "Make sure that cells are in **script mode** (not **interactive mode**).\n"
   ]
  },
  {
   "cell_type": "markdown",
   "metadata": {},
   "source": [
    "# 1\n",
    "### 1 point\n",
    "\n",
    "Write a function that takes the circumference of a circle as a parameter and **returns** the area of that circle.\n",
    "\n",
    "Note: Assume the value of pi is 3.1416"
   ]
  },
  {
   "cell_type": "code",
   "execution_count": 8,
   "metadata": {},
   "outputs": [
    {
     "name": "stdout",
     "output_type": "stream",
     "text": [
      "Enter Circumference: 20\n"
     ]
    },
    {
     "data": {
      "text/plain": [
       "31.830914183855363"
      ]
     },
     "execution_count": 8,
     "metadata": {},
     "output_type": "execute_result"
    }
   ],
   "source": [
    "def cirtoarea():\n",
    "    cir = float(input(\"Enter Circumference: \"))\n",
    "    r = cir/(2*3.1416)\n",
    "    a = (3.1416*(r*r))\n",
    "    return a\n",
    "\n",
    "cirtoarea()"
   ]
  },
  {
   "cell_type": "markdown",
   "metadata": {},
   "source": [
    "# 2\n",
    "### 2 points\n",
    "\n",
    "Write a function that takes a 5-character string as a parameter and **returns** the string in reverse order.\n",
    "\n",
    "e.g. reverseString(\"Hello\") -> \"olleH\""
   ]
  },
  {
   "cell_type": "code",
   "execution_count": 10,
   "metadata": {},
   "outputs": [
    {
     "name": "stdout",
     "output_type": "stream",
     "text": [
      "Enter 5 Lettered Word: hello\n"
     ]
    },
    {
     "data": {
      "text/plain": [
       "'olleh'"
      ]
     },
     "execution_count": 10,
     "metadata": {},
     "output_type": "execute_result"
    }
   ],
   "source": [
    "def reverseString():\n",
    "    word = list(input(\"Enter 5 Lettered Word: \"))\n",
    "    if len(word) == 5:\n",
    "        first = word[0]\n",
    "        second = word[1]\n",
    "        third = word[2]\n",
    "        forth = word[3]\n",
    "        fifth = word[4]\n",
    "        reverse = (fifth + forth + third + second + first)\n",
    "        return reverse\n",
    "    else:\n",
    "        print(\"That aint it chief\")\n",
    "        \n",
    "reverseString()"
   ]
  },
  {
   "cell_type": "markdown",
   "metadata": {},
   "source": [
    "# 3\n",
    "### 2 points\n",
    "\n",
    "Write a function that takes a positive integer as input and **returns** the sum of all positive integers smaller than and including the number itself.\n",
    "\n",
    "e.g. backAddition(5) -> 1 + 2 + 3 + 4 + 5 -> 15"
   ]
  },
  {
   "cell_type": "code",
   "execution_count": 12,
   "metadata": {},
   "outputs": [
    {
     "name": "stdout",
     "output_type": "stream",
     "text": [
      "Enter Positive Value: 5\n"
     ]
    },
    {
     "data": {
      "text/plain": [
       "15"
      ]
     },
     "execution_count": 12,
     "metadata": {},
     "output_type": "execute_result"
    }
   ],
   "source": [
    "def trianglenumber():\n",
    "    val = int(input(\"Enter Positive Value: \"))\n",
    "    if val > 0:\n",
    "        lval = list(range(1, val + 1))\n",
    "        sum = 0\n",
    "        for number in lval:\n",
    "            sum = sum + number\n",
    "        return sum\n",
    "    else:\n",
    "        print(\"That is a negative number, I cannot accept you\")\n",
    "\n",
    "trianglenumber()"
   ]
  },
  {
   "cell_type": "markdown",
   "metadata": {},
   "source": [
    "# 4\n",
    "### 5 points (all or nothing)\n",
    "\n",
    "The sum of the squares of the first ten natural numbers is,\n",
    "12 + 22 + ... + 102 = 385\n",
    "\n",
    "The square of the sum of the first ten natural numbers is,\n",
    "(1 + 2 + ... + 10)2 = 552 = 3025\n",
    "\n",
    "Hence the difference between the sum of the squares of the first ten natural numbers and the square of the sum is 3025 − 385 = 2640.\n",
    "\n",
    "Find the difference between the sum of the squares of the first one hundred natural numbers and the square of the sum.\n",
    "\n",
    "Show code that generates the answer."
   ]
  },
  {
   "cell_type": "code",
   "execution_count": 3,
   "metadata": {},
   "outputs": [
    {
     "name": "stdout",
     "output_type": "stream",
     "text": [
      "The sum of the square value is: \n",
      "338350\n",
      "The square of the sum value is: \n",
      "25502500\n",
      "The difference is: \n",
      "25164150\n"
     ]
    }
   ],
   "source": [
    "natsumsqr = list(a*a for a in range(1,101))\n",
    "sumsqr = 0\n",
    "for x in natsumsqr:\n",
    "        sumsqr = sumsqr + x\n",
    "        \n",
    "natsqrsum = list(range(1,101))\n",
    "sqrsum = 0\n",
    "for y in natsqrsum:\n",
    "        sqrsum = sqrsum + y\n",
    "sqrsum = sqrsum*sqrsum   \n",
    "\n",
    "\n",
    "print(\"The sum of the square value is: \")\n",
    "print(sumsqr)\n",
    "print(\"The square of the sum value is: \")\n",
    "print(sqrsum)\n",
    "print(\"The difference is: \")\n",
    "print(sqrsum - sumsqr)"
   ]
  },
  {
   "cell_type": "markdown",
   "metadata": {},
   "source": [
    "# 5\n",
    "### 5 points \n",
    "\n",
    "Write a function that allows a self-service Point of Sale system to give you the exact change when you pay in cash.\n",
    "\n",
    "The function should accept the number of cents entered by the caller of the function. It then should **display** the denominations of the coins that should be given to the buyer. The change should use as few coins as possible. Assume that the Point of Sale system is loaded with 1 cent, 5 cents, 10 cents, 25 cents and 1 peso coins.\n",
    "\n",
    "Write main program code that accepts the number of cents manually through user input and calls the function written above.\n",
    "\n",
    "**Input:** The program accepts one positive integer, ***cents***, corresponding to the total change to be given by the Point of Sale system.\n",
    "\n",
    "**Output:** The number of 1 peso, 25 cents, 10 cents, 5 cents and 1 cent coins respectively. There should be one output per line.\n",
    "\n",
    "**Sample Input 1:**  \n",
    "105\n",
    "\n",
    "**Sample Output 1**  \n",
    "1  \n",
    "0  \n",
    "0  \n",
    "1  \n",
    "0  \n",
    "\n",
    "**Sample Input 2:**  \n",
    "69  \n",
    "\n",
    "**Sample Output 2:**  \n",
    "0  \n",
    "2  \n",
    "1  \n",
    "1  \n",
    "4  \n",
    "\n",
    "\n"
   ]
  },
  {
   "cell_type": "code",
   "execution_count": null,
   "metadata": {},
   "outputs": [],
   "source": [
    "def waterfall():\n",
    "    val = float(input(\"Enter Money: \"))\n",
    "    bval = val*100\n",
    "    peso = 0\n",
    "    quarter = 0\n",
    "    dime = 0\n",
    "    nickel = 0\n",
    "    penny = 0\n",
    "    coins = 0\n",
    "    qcoins = 0\n",
    "    dcoins = 0\n",
    "    ncoins = 0\n",
    "    pcoins = 0\n",
    "\n",
    "    while bval > peso:\n",
    "        peso = peso + 100\n",
    "        coins = coins + 1\n",
    "    peso = peso - 100\n",
    "    coins = coins -1\n",
    "    print(coins)\n",
    "\n",
    "    while (bval - peso) > quarter:\n",
    "        quarter = quarter + 25\n",
    "        qcoins = qcoins + 1\n",
    "    quarter = quarter - 25\n",
    "    qcoins = qcoins -1\n",
    "    print(qcoins)\n",
    "\n",
    "    while (bval - peso - quarter) > dime:\n",
    "        dime = dime + 10\n",
    "        dcoins = dcoins + 1\n",
    "    dime = dime - 10\n",
    "    dcoins = dcoins -1\n",
    "    print(dcoins)\n",
    "\n",
    "    while (bval - peso - quarter - dime) > nickel:\n",
    "        nickel = nickel + 5\n",
    "        ncoins = ncoins + 1\n",
    "    nickel = nickel - 5\n",
    "    ncoins = ncoins -1\n",
    "    print(ncoins)\n",
    "\n",
    "    while (bval - peso - quarter - dime - nickel) >= penny:\n",
    "        penny = penny + 1\n",
    "        pcoins = pcoins + 1\n",
    "    penny = penny - 1\n",
    "    pcoins = pcoins -1\n",
    "    print(pcoins)\n",
    "\n",
    "waterfall()"
   ]
  },
  {
   "cell_type": "code",
   "execution_count": null,
   "metadata": {},
   "outputs": [],
   "source": []
  }
 ],
 "metadata": {
  "kernelspec": {
   "display_name": "Python 3",
   "language": "python",
   "name": "python3"
  },
  "language_info": {
   "codemirror_mode": {
    "name": "ipython",
    "version": 3
   },
   "file_extension": ".py",
   "mimetype": "text/x-python",
   "name": "python",
   "nbconvert_exporter": "python",
   "pygments_lexer": "ipython3",
   "version": "3.8.5"
  }
 },
 "nbformat": 4,
 "nbformat_minor": 2
}
